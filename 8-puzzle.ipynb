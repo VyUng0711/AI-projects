{
 "cells": [
  {
   "cell_type": "markdown",
   "metadata": {},
   "source": [
    "Link to the jupyter notebook: http://localhost:8888/notebooks/Assignment%201.ipynb"
   ]
  },
  {
   "cell_type": "code",
   "execution_count": 1,
   "metadata": {},
   "outputs": [],
   "source": [
    "import numpy as np\n",
    "from queue import PriorityQueue"
   ]
  },
  {
   "cell_type": "markdown",
   "metadata": {},
   "source": [
    "# Class PuzzleNode: \n",
    "This class captured the state of the puzzle. A puzzle is initialized to have five attributes: state has the form of a list of list, fval and gval are used for A* search, parent is used to trace back the optimal path,  pruned, which is a boolean value that indicates whether a node is visited or not. The class has two methods: __lt__ to compare the two states based on f cost and __str__ to represent a state in a form of a grid (real puzzle) \n"
   ]
  },
  {
   "cell_type": "code",
   "execution_count": 21,
   "metadata": {},
   "outputs": [],
   "source": [
    "class PuzzleNode:\n",
    "    # Class constructor\n",
    "    def __init__(self,state,fval,gval,parent=None):\n",
    "        self.state = state\n",
    "        self.fval = fval\n",
    "        self.gval = gval\n",
    "        self.parent = parent\n",
    "        self.pruned = False\n",
    "\n",
    "    # Comparison function based on f cost\n",
    "    def __lt__(self,other):\n",
    "        return self.fval < other.fval\n",
    "\n",
    "    # Represent the state of the puzzle as a grid  \n",
    "    def __str__(self):\n",
    "        n=len(self.state)\n",
    "        grid = ''\n",
    "        for row in range(n):\n",
    "            grid += ' '.join(map(str, self.state[row]))\n",
    "            grid += '\\r\\n'\n",
    "        return grid\n"
   ]
  },
  {
   "cell_type": "markdown",
   "metadata": {},
   "source": [
    "# Functions to check valid input:\n",
    "I wrote two functions to check whether an input is in the right form, and whether the state is solvable. \n",
    "The function checking if a puzzle is solvable would call another function inside it to get the value of inversions. With a puzzle of size n x n\n",
    "If n is odd, the puzzle is solvable if number of inversions is even \n",
    "If n is even, the puzzle is solvable if 1/ the blank (0) lies on an even row counting from the bottom and the number of inversions is odd. 2/ the blank lies on an odd row counting from the bottom and the number of inversions is even. \n",
    "When we convert the state from a 2D array (or list of list) into a 1D array and we have a pair of tiles (a, b). An inversion is counted if a appears before b but a > b. \n"
   ]
  },
  {
   "cell_type": "code",
   "execution_count": 15,
   "metadata": {},
   "outputs": [],
   "source": [
    "#Check input:\n",
    "def check_valid(n, puzzle):\n",
    "    result=True\n",
    "    #Assuming the smallest possible puzzle is 3x3\n",
    "    if len(puzzle) != n or len(puzzle) < 3:\n",
    "        result=False\n",
    "    #Check if input contains every number from 0 to n**2-1 \n",
    "    flat=[i for sublist in puzzle for i in sublist]\n",
    "    result=(sorted(flat) == list(range(n**2)))\n",
    "    return result\n",
    "    \n",
    "def check_solvable(n, puzzle):\n",
    "    inv_count = get_inv_count(n,puzzle)\n",
    "    if n % 2 == 1:\n",
    "        return (inv_count % 2 == 0)\n",
    "    else:\n",
    "        pos = find_blank_pos(puzzle)\n",
    "        if pos % 2 == 1:\n",
    "            return (inv_count % 2 == 0)\n",
    "        else:\n",
    "            return (inv_count % 2 == 1)\n",
    "def find_blank_pos(n, puzzle):\n",
    "    for i in range(n-1,-1,-1):\n",
    "        for j in range(n-1,-1,-1):\n",
    "            if puzzle[i][j]==0:\n",
    "                return n-i\n",
    "def get_inv_count(n, puzzle):\n",
    "    flat=[i for sublist in puzzle for i in sublist]\n",
    "    count = 0\n",
    "    for i in range(0,n*n-1):\n",
    "        for j in range(i+1, n*n):\n",
    "            if flat[j] and flat[i] and flat[i]>flat[j]:\n",
    "                count+=1\n",
    "    return count "
   ]
  },
  {
   "cell_type": "markdown",
   "metadata": {},
   "source": [
    "# The Heuristics: \n",
    "I implemented three different heuristics \n",
    "1/ The number of misplaced tiles \n",
    "2/ The Manhattan distance \n",
    "3/ The linear conflict + manhattan distance. <br />\n",
    "The linear conflict combined with manhattan distance was proved to outperform the other two, even though for these three particular test cases given, it does not (as shown in the last table). Two tiles a and b are in a linear conflict if they are in the same row or column, their goal positions are also in the same row or column and the goal position of one of the tiles is blocked by the other tile in that row. <br />\n",
    "After having all the heuristics, I created a list of handles to the heuristics so that we can call out any of them later "
   ]
  },
  {
   "cell_type": "code",
   "execution_count": 4,
   "metadata": {},
   "outputs": [],
   "source": [
    "def misplace_count(state):\n",
    "    n = len(state)\n",
    "    l = list(range(0,n**2))\n",
    "    goal_state=[l[i:i+n] for i in range(0,n**2,n)]\n",
    "    misplace_num=0\n",
    "    for i in range(n):\n",
    "        for j in range(n):\n",
    "            #Leave out the blank state\n",
    "            if state[i][j] == 0:\n",
    "                continue\n",
    "            if state[i][j] != goal_state[i][j]:\n",
    "                misplace_num+=1\n",
    "    return misplace_num"
   ]
  },
  {
   "cell_type": "code",
   "execution_count": 5,
   "metadata": {},
   "outputs": [],
   "source": [
    "def manhattan_distance(state):\n",
    "    n = len(state)\n",
    "    l = list(range(0,n**2))\n",
    "    goal_state=[l[i:i+n] for i in range(0,n**2,n)]\n",
    "    current=[]\n",
    "    target=[]\n",
    "    for row in range(n):\n",
    "        for col in range(n):\n",
    "            #Leave out the blank state\n",
    "            if state[row][col] == 0:\n",
    "                continue\n",
    "            current.append((row,col))\n",
    "            target.append((state[row][col] // n, state[row][col] % n))\n",
    "    total_dist = 0 \n",
    "    for k in range(n**2-1):\n",
    "        total_dist += abs(target[k][0]-current[k][0]) + abs(target[k][1]-current[k][1])\n",
    "    return total_dist      "
   ]
  },
  {
   "cell_type": "code",
   "execution_count": 6,
   "metadata": {},
   "outputs": [],
   "source": [
    "#Linear conflict + Manhattan distance\n",
    "\n",
    "def linear_conflict(state):\n",
    "    n = len(state)\n",
    "    count_manhattan = manhattan_distance(state)\n",
    "    vertical_conflict=0\n",
    "    for row in range(n):\n",
    "        max_ver = -1\n",
    "        for col in range(n):\n",
    "            value = state[row][col]\n",
    "            if value != 0 and (value-1)// n == row:\n",
    "                if value > max_ver:\n",
    "                    max_ver = value\n",
    "                else:\n",
    "                    vertical_conflict+=2\n",
    "    horizontal_conflict=0\n",
    "    for col in range(n):\n",
    "        max_hor = -1\n",
    "        for row in range(n):\n",
    "            value = state[row][col]\n",
    "            if value != 0 and value%n == col+1:\n",
    "                if value > max_hor:\n",
    "                    max_hor = value\n",
    "                else:\n",
    "                    horizontal_conflict+=2 \n",
    "    return (count_manhattan + vertical_conflict + horizontal_conflict) \n",
    "    "
   ]
  },
  {
   "cell_type": "code",
   "execution_count": 8,
   "metadata": {},
   "outputs": [],
   "source": [
    "heuristics = [misplace_count, manhattan_distance, linear_conflict]"
   ]
  },
  {
   "cell_type": "markdown",
   "metadata": {},
   "source": [
    "# Possible moves to change state: \n",
    "The moves here are not defined for the tiles, but for the blank space. For example, if the blank is in the middle, a right move would mean that the tile on the right of it will move left. There are four possible moves in total and each of them will have different constraints (for example, if the blank is in the top row, it cannot move up, or if the blank is in the right most column, it cannot move right) \n"
   ]
  },
  {
   "cell_type": "code",
   "execution_count": 20,
   "metadata": {},
   "outputs": [],
   "source": [
    "def get_index_0(state):\n",
    "    for i in range(len(state)):\n",
    "        for j in range(len(state)): \n",
    "            if state[i][j] == 0:\n",
    "                r=i\n",
    "                c=j\n",
    "    return (r,c)\n",
    "\n",
    "def moveleft(this_state):\n",
    "    r,c=get_index_0(this_state)\n",
    "    if c!=0:\n",
    "        new_state=[x[:] for x in this_state]\n",
    "        new_state[r][c], new_state[r][c-1] = \\\n",
    "        new_state[r][c-1], new_state[r][c]\n",
    "    else:\n",
    "        new_state = None\n",
    "    return (new_state)\n",
    "\n",
    "def moveright(this_state):\n",
    "    r,c=get_index_0(this_state)\n",
    "    if c!=len(this_state)-1:\n",
    "        new_state=[x[:] for x in this_state]\n",
    "        new_state[r][c], new_state[r][c+1] = \\\n",
    "        new_state[r][c+1], new_state[r][c]\n",
    "    else:\n",
    "        new_state = None\n",
    "    return (new_state)\n",
    "def moveup(this_state):\n",
    "    r,c=get_index_0(this_state)\n",
    "    if r!=0:\n",
    "        new_state=[x[:] for x in this_state]\n",
    "        new_state[r][c], new_state[r-1][c] = \\\n",
    "        new_state[r-1][c], new_state[r][c]\n",
    "    else:\n",
    "        new_state = None\n",
    "    return (new_state)\n",
    "def movedown(this_state):\n",
    "    r,c=get_index_0(this_state)\n",
    "    if r!=len(this_state)-1:\n",
    "        new_state=[x[:] for x in this_state]\n",
    "        new_state[r][c], new_state[r+1][c] = \\\n",
    "        new_state[r+1][c], new_state[r][c]\n",
    "    else:\n",
    "        new_state = None\n",
    "    return (new_state)"
   ]
  },
  {
   "cell_type": "markdown",
   "metadata": {},
   "source": [
    "# Main function for A* search \n",
    "This function is adapted from the code provided in section 3.1 "
   ]
  },
  {
   "cell_type": "code",
   "execution_count": 10,
   "metadata": {},
   "outputs": [],
   "source": [
    "def solvePuzzle(n, state, heuristic, prnt= False):\n",
    "    l = list(range(0,n**2))\n",
    "    #Generate the goal state\n",
    "    goal = [l[i:i+n] for i in range(0,n**2,n)]\n",
    "    #Starting state would be the input state. \n",
    "    start = state \n",
    "    #Check if the input is in the correct format \n",
    "    if check_valid(n, start) == False:\n",
    "        return (0, 0, -1)\n",
    "    #Check if the input state is solvable:\n",
    "    if check_solvable(n, start) == False:\n",
    "        return (0, 0, -2)\n",
    "    #Create a PuzzleNode object as the starting node. \n",
    "    start_node = PuzzleNode(start, heuristic(start),0)\n",
    "    #Create a dictionary that stores current cost to reach all visited nodes\n",
    "    costs_db = {str(start):start_node}\n",
    "    #Create a frontier in the form of a Priority Queue to maintain ordering\n",
    "    frontier = PriorityQueue()\n",
    "    #Insert the starting node into frontier to start expanding it. \n",
    "    frontier.put(start_node)\n",
    "\n",
    "    # Begin A* Search\n",
    "    #Expansion_counter stores the number of steps required \n",
    "    #to reach the goal state from the initial state\n",
    "    expansion_counter = 0\n",
    "    # Continue to explore until there is no node remaning in the frontier \n",
    "    while not frontier.empty():\n",
    "    # Take the next available node from the frontier\n",
    "        cur_node = frontier.get()\n",
    "        if cur_node.pruned:\n",
    "            continue # Skip if this node has been marked for removal\n",
    "\n",
    "    # Check if we already reach the goal state\n",
    "        if cur_node.state == goal:\n",
    "        # Reconstruct the optimal path by backward tracing using the attribute parent of each node. \n",
    "            if prnt == True:\n",
    "                #If we want to show the results as grids, comment out the line below:\n",
    "                #optimal_path = [cur_node.__str__()]\n",
    "                #The next line wil show the result as list of list: \n",
    "                optimal_path = [cur_node.state]\n",
    "                while cur_node.parent:\n",
    "                    #If we want to show the results as grids, comment out the lines below:\n",
    "#                     c = cur_node.parent.__str__()\n",
    "#                     optimal_path.append(c)\n",
    "                    ##The next line wil append the parents in the form of list of list \n",
    "                    optimal_path.append((cur_node.parent).state)\n",
    "                    cur_node = cur_node.parent\n",
    "\n",
    "                optimal_path = optimal_path[::-1]\n",
    "                print(\"Optimal Path to Goal: \")\n",
    "                for node in optimal_path:\n",
    "                    print(node) \n",
    "            \n",
    "            return(expansion_counter, frontier.qsize(),0)\n",
    "    \n",
    "    # Define moving possibilities \n",
    "        moves_pos = [moveleft, moveright, moveup, movedown]\n",
    "        \n",
    "    # Expand the node in the orthogonal and diagonal directions\n",
    "        for m in moves_pos:\n",
    "            next_state = m(cur_node.state)\n",
    "\n",
    "        # We can only expand the node resulted from a plausible move \n",
    "        #(as defined in the 4 possible move functions above)\n",
    "            if next_state != None:\n",
    "                gval = cur_node.gval + 1 # Tentative cost value for child\n",
    "\n",
    "            # If the child node has already been explored: \n",
    "                if str(next_state) in costs_db:\n",
    "                    if costs_db[str(next_state)].gval > gval:\n",
    "                    # Mark existing value for deletion from frontier\n",
    "                        costs_db[str(next_state)].pruned = True \n",
    "                    else:\n",
    "        # ignore this child, since a better path has already been found previously.\n",
    "                        continue \n",
    "                \n",
    "                # Heuristic cost from next node to goal\n",
    "                hval = heuristic(next_state) \n",
    "        \n",
    "        \n",
    "                # Create new node for child\n",
    "                next_node = PuzzleNode(next_state, gval + hval , gval, cur_node) \n",
    "                frontier.put(next_node)\n",
    "\n",
    "                #Mark the node as explored\n",
    "                costs_db[str(next_state)] = next_node \n",
    "\n",
    "                    \n",
    "        expansion_counter = expansion_counter + 1"
   ]
  },
  {
   "cell_type": "code",
   "execution_count": 24,
   "metadata": {},
   "outputs": [],
   "source": [
    "#Function to compare heuristics on the test sets \n",
    "def comparison(heuristics):\n",
    "    test1=[[5,7,6],[2,4,3],[8,1,0]]\n",
    "    test2=[[7,0,8],[4,6,1],[5,3,2]]\n",
    "    test3=[[2,3,7],[1,8,0],[6,5,4]]\n",
    "    tests=[test1,test2,test3]\n",
    "    results=[]\n",
    "    #Only consider the two heuristics \n",
    "    for heur in heuristics:\n",
    "        #print (\"Heuristic %s: \" % str(heur))\n",
    "        for test in tests:\n",
    "            steps, frontierSize, err = solvePuzzle(3, test, heur)\n",
    "            results.append((steps, frontierSize))\n",
    "    return results"
   ]
  },
  {
   "cell_type": "code",
   "execution_count": 26,
   "metadata": {},
   "outputs": [],
   "source": [
    "result1 = comparison([misplace_count, manhattan_distance])"
   ]
  },
  {
   "cell_type": "code",
   "execution_count": 27,
   "metadata": {},
   "outputs": [],
   "source": [
    "from tabulate import tabulate\n",
    "def print_table(result):\n",
    "    row1=['Num Steps 1',result[0][0],result[3][0]]\n",
    "    row2=['Frontier Size 1',result[0][1], result[3][1]]\n",
    "    row3=['Num Steps 2',result[1][0],result[4][0]]\n",
    "    row4=['Frontier Size 2',result[1][1],result[4][1]]\n",
    "    row5=['Num Steps 3',result[2][0],result[5][0]]\n",
    "    row6=['Frontier Size 3',result[2][1],result[5][1]]   \n",
    "    rows = [row1,row2,row3,row4,row5,row6]\n",
    "    table=tabulate(rows, headers=[\"Test\",\"Heuristic 1\",\"Heuristic 2\"], tablefmt='orgtbl')\n",
    "    print (table)"
   ]
  },
  {
   "cell_type": "markdown",
   "metadata": {},
   "source": [
    "# Comparing Misplaced Count Heuristic and Manhattan Distance Heuristic\n",
    "From the table below, we can see that in all three test cases, the misplaced count heuristic required larger number of moves and larger frontier size compared to the Manhattan Distance heuristics. "
   ]
  },
  {
   "cell_type": "code",
   "execution_count": 28,
   "metadata": {},
   "outputs": [
    {
     "name": "stdout",
     "output_type": "stream",
     "text": [
      "| Test            |   Heuristic 1 |   Heuristic 2 |\n",
      "|-----------------+---------------+---------------|\n",
      "| Num Steps 1     |         62935 |          1463 |\n",
      "| Frontier Size 1 |         21533 |           864 |\n",
      "| Num Steps 2     |         25141 |          1534 |\n",
      "| Frontier Size 2 |         12031 |           897 |\n",
      "| Num Steps 3     |           813 |           118 |\n",
      "| Frontier Size 3 |           507 |            64 |\n"
     ]
    }
   ],
   "source": [
    "print_table(result1)"
   ]
  },
  {
   "cell_type": "markdown",
   "metadata": {},
   "source": [
    "# Comparing the Manhattan Distance Heuristic and the Linear Conflict Heuristic \n",
    "From the table below, we can see that in these three test cases, the Linear Conflict Heuristic do not necessarily outperform Manhattan Distance Heuristic, but if we have more test cases and average the number of steps and frontier size, the results may look different. "
   ]
  },
  {
   "cell_type": "code",
   "execution_count": 31,
   "metadata": {},
   "outputs": [],
   "source": [
    "result2 = comparison([manhattan_distance, linear_conflict])"
   ]
  },
  {
   "cell_type": "code",
   "execution_count": 32,
   "metadata": {},
   "outputs": [
    {
     "name": "stdout",
     "output_type": "stream",
     "text": [
      "| Test            |   Heuristic 1 |   Heuristic 2 |\n",
      "|-----------------+---------------+---------------|\n",
      "| Num Steps 1     |          1463 |          2141 |\n",
      "| Frontier Size 1 |           864 |          1186 |\n",
      "| Num Steps 2     |          1534 |          6104 |\n",
      "| Frontier Size 2 |           897 |          3466 |\n",
      "| Num Steps 3     |           118 |            92 |\n",
      "| Frontier Size 3 |            64 |            56 |\n"
     ]
    }
   ],
   "source": [
    "print_table(result2)"
   ]
  },
  {
   "cell_type": "markdown",
   "metadata": {},
   "source": [
    "# References \n",
    "GeeksforGeeks. (n.d.). How to check if an instance of 15 puzzle is solvable? - GeeksforGeeks. [online] Available at: https://www.geeksforgeeks.org/check-instance-15-puzzle-solvable/ [Accessed 18 Feb. 2018]. <br />\n",
    "\n",
    "Insight into programming algorithms. (n.d.). Implementing A-star(A*) to solve N-Puzzle. [online] Available at: https://algorithmsinsight.wordpress.com/graph-theory-2/a-star-in-general/implementing-a-star-to-solve-n-puzzle/ [Accessed 18 Feb. 2018]."
   ]
  },
  {
   "cell_type": "code",
   "execution_count": null,
   "metadata": {},
   "outputs": [],
   "source": []
  }
 ],
 "metadata": {
  "kernelspec": {
   "display_name": "Python 3",
   "language": "python",
   "name": "python3"
  },
  "language_info": {
   "codemirror_mode": {
    "name": "ipython",
    "version": 3
   },
   "file_extension": ".py",
   "mimetype": "text/x-python",
   "name": "python",
   "nbconvert_exporter": "python",
   "pygments_lexer": "ipython3",
   "version": "3.6.3"
  }
 },
 "nbformat": 4,
 "nbformat_minor": 2
}
