{
 "cells": [
  {
   "cell_type": "code",
   "execution_count": 1,
   "metadata": {},
   "outputs": [],
   "source": [
    "class Literal:\n",
    "    \"\"\" \n",
    "    Class representing a logical literal\n",
    "    Attributes: \n",
    "    name: string containing name of the literal \n",
    "    sign: boolean value indicating the sign of the literal\n",
    "    Methods:\n",
    "    __repr__: print out the literal with correct sign\n",
    "    __neg__: negate a literal\n",
    "    __eq__: compare two literals by their names \n",
    "    __hash__: return hash value of a literal name\n",
    "    \n",
    "    \"\"\"\n",
    "    def __init__(self,name='', sign = True):\n",
    "        self.name = name \n",
    "        self.sign = sign \n",
    "    \n",
    "    def __repr__(self): \n",
    "        if self.sign:\n",
    "            return self.name\n",
    "        elif not self.sign:\n",
    "            return('-' + self.name)\n",
    "        \n",
    "    def __neg__(self):\n",
    "        return Literal(self.name, not self.sign)\n",
    "    \n",
    "    def __eq__(self, other): \n",
    "        return self.name == other.name\n",
    "    \n",
    "    def __hash__(self):\n",
    "        # Define the hash value to put in a set \n",
    "        return hash(self.name)"
   ]
  },
  {
   "cell_type": "code",
   "execution_count": 2,
   "metadata": {},
   "outputs": [],
   "source": [
    "A = Literal('A')\n",
    "B = Literal('B')\n",
    "C = Literal('C')\n",
    "D = Literal('D')\n",
    "E = Literal('E')\n",
    "F = Literal('F')"
   ]
  },
  {
   "cell_type": "code",
   "execution_count": 3,
   "metadata": {},
   "outputs": [],
   "source": [
    "def is_true(clause, model = {}):\n",
    "    \"\"\" Evaluate if a clause is true given\n",
    "    a model. If the truth value of a clause \n",
    "    is undefined, return None\n",
    "    \"\"\"\n",
    "    truth_values = []\n",
    "    for s in clause:\n",
    "        if s in model:\n",
    "            if s.sign == True:\n",
    "                truth_values.append(model[s])\n",
    "            else:\n",
    "                truth_values.append(not model[s])\n",
    "    #The whole clause is True as long as one of the unit is True \n",
    "    #because they are related by disjunction\n",
    "    if True in truth_values: \n",
    "        return True\n",
    "    #The whole clause is False if no unit evaluates to True \n",
    "    elif set(truth_values) == {False} and len(truth_values) == len(clause):\n",
    "        return False "
   ]
  },
  {
   "cell_type": "code",
   "execution_count": 4,
   "metadata": {},
   "outputs": [
    {
     "data": {
      "text/plain": [
       "True"
      ]
     },
     "execution_count": 4,
     "metadata": {},
     "output_type": "execute_result"
    }
   ],
   "source": [
    "is_true({A,B}, {A: False, B: True})"
   ]
  },
  {
   "cell_type": "code",
   "execution_count": 5,
   "metadata": {},
   "outputs": [
    {
     "data": {
      "text/plain": [
       "False"
      ]
     },
     "execution_count": 5,
     "metadata": {},
     "output_type": "execute_result"
    }
   ],
   "source": [
    "is_true({A,B}, {A: False, B: False})"
   ]
  },
  {
   "cell_type": "code",
   "execution_count": 6,
   "metadata": {},
   "outputs": [
    {
     "name": "stdout",
     "output_type": "stream",
     "text": [
      "None\n"
     ]
    }
   ],
   "source": [
    "print (is_true({A,B}, {}))"
   ]
  },
  {
   "cell_type": "code",
   "execution_count": 7,
   "metadata": {},
   "outputs": [],
   "source": [
    "def most_common(symbols,clauses):\n",
    "    \"\"\" Find the most common literal in the KB \n",
    "    and return that literal together with the list of the \n",
    "    remaining literals. \n",
    "    \"\"\"\n",
    "    #Turn the list of dictionary into a 1-d list:\n",
    "    flat = [s for c in clauses for s in c if s in symbols]\n",
    "    #Find the most common literal: \n",
    "    common = max(set(flat), key=flat.count)\n",
    "    \n",
    "    #Put the remaining literals into a new list. \n",
    "    remaining = [s for s in symbols if s != common]\n",
    "    return(common, remaining)"
   ]
  },
  {
   "cell_type": "code",
   "execution_count": 8,
   "metadata": {},
   "outputs": [
    {
     "data": {
      "text/plain": [
       "(B, [A, C])"
      ]
     },
     "execution_count": 8,
     "metadata": {},
     "output_type": "execute_result"
    }
   ],
   "source": [
    "most_common([A,B,C],[{B},{B,C}])"
   ]
  },
  {
   "cell_type": "code",
   "execution_count": 9,
   "metadata": {},
   "outputs": [],
   "source": [
    "def find_pure_symbols(symbols, clauses):\n",
    "    \"\"\" Find all the pure symbols given a set of clauses.\n",
    "    Return a dictionary, the value of symbol indicates its sign. \n",
    "    Symbol with value of None is not pure. \n",
    "    \"\"\"\n",
    "    flat = [s for c in clauses for s in c if s in symbols]\n",
    "    literals = {}\n",
    "    for i in flat:\n",
    "        if i not in literals:\n",
    "            literals[i] = i.sign \n",
    "        else:\n",
    "            if i.sign != literals[i]:\n",
    "                literals[i] = None\n",
    "    return literals"
   ]
  },
  {
   "cell_type": "code",
   "execution_count": 10,
   "metadata": {},
   "outputs": [
    {
     "data": {
      "text/plain": [
       "{A: None, B: None, C: None}"
      ]
     },
     "execution_count": 10,
     "metadata": {},
     "output_type": "execute_result"
    }
   ],
   "source": [
    "find_pure_symbols([A,B,C], [{A},{B,-A},{C},{-C,-B}])"
   ]
  },
  {
   "cell_type": "code",
   "execution_count": 11,
   "metadata": {},
   "outputs": [
    {
     "data": {
      "text/plain": [
       "{-B: False, A: True, C: None}"
      ]
     },
     "execution_count": 11,
     "metadata": {},
     "output_type": "execute_result"
    }
   ],
   "source": [
    "find_pure_symbols([A,B,C], [{A},{-B,A},{C},{-C,-B}])"
   ]
  },
  {
   "cell_type": "code",
   "execution_count": 12,
   "metadata": {},
   "outputs": [],
   "source": [
    "def one_pure_symbol(symbols, clauses):\n",
    "    \"\"\" Return only one of the pure symbols found (in its positive form) \n",
    "    and its real sign. \n",
    "    \"\"\"\n",
    "    l = find_pure_symbols(symbols, clauses)\n",
    "    for k, v in l.items():\n",
    "        if v == True:\n",
    "            return (k, v)\n",
    "        elif v == False:\n",
    "            return (-k, v)\n",
    "    return (None, None)"
   ]
  },
  {
   "cell_type": "code",
   "execution_count": 13,
   "metadata": {},
   "outputs": [
    {
     "data": {
      "text/plain": [
       "(B, False)"
      ]
     },
     "execution_count": 13,
     "metadata": {},
     "output_type": "execute_result"
    }
   ],
   "source": [
    "one_pure_symbol([A,B,C], [{A},{-B,-A},{C},{C,-B}])"
   ]
  },
  {
   "cell_type": "code",
   "execution_count": 14,
   "metadata": {},
   "outputs": [
    {
     "data": {
      "text/plain": [
       "(None, None)"
      ]
     },
     "execution_count": 14,
     "metadata": {},
     "output_type": "execute_result"
    }
   ],
   "source": [
    "one_pure_symbol([A,B,C], [{-A},{-B,A},{C},{-C,B}])"
   ]
  },
  {
   "cell_type": "code",
   "execution_count": 15,
   "metadata": {},
   "outputs": [],
   "source": [
    "def common_pure_symbol(symbols, clauses):\n",
    "    \"\"\" Return the most common pure symbol and its sign.  \n",
    "    If no pure symbol found, return (None, None)\n",
    "    \"\"\"\n",
    "    flat = [s for c in clauses for s in c if s in symbols]\n",
    "    l = find_pure_symbols(symbols, clauses)\n",
    "    freq = {}\n",
    "    for k, v in l.items():\n",
    "        if v == None:\n",
    "            continue\n",
    "        else:\n",
    "            freq[k] = flat.count(k)\n",
    "    if not freq:\n",
    "        return (None, None)\n",
    "    result = max(freq, key=freq.get)\n",
    "    if l[result] == True:\n",
    "        return (result, l[result])\n",
    "    else:\n",
    "        return (-result, l[result])"
   ]
  },
  {
   "cell_type": "code",
   "execution_count": 16,
   "metadata": {},
   "outputs": [
    {
     "data": {
      "text/plain": [
       "(C, True)"
      ]
     },
     "execution_count": 16,
     "metadata": {},
     "output_type": "execute_result"
    }
   ],
   "source": [
    "common_pure_symbol([A,B,C],[{A},{C},{C,-B},{C}])"
   ]
  },
  {
   "cell_type": "code",
   "execution_count": 17,
   "metadata": {},
   "outputs": [
    {
     "data": {
      "text/plain": [
       "(None, None)"
      ]
     },
     "execution_count": 17,
     "metadata": {},
     "output_type": "execute_result"
    }
   ],
   "source": [
    "common_pure_symbol([A,B,C], [{A},{-C,-B},{C,B,-A}])"
   ]
  },
  {
   "cell_type": "code",
   "execution_count": 18,
   "metadata": {},
   "outputs": [],
   "source": [
    "def true_unit_clause(literal):\n",
    "    \"\"\" Output the truth value of the literal \n",
    "    for the unit clause to be true. In this case,\n",
    "    unit clause only contains one literal whose sign\n",
    "    is either positive or negative. \n",
    "    \"\"\"\n",
    "    if literal.sign == True:\n",
    "        return (literal, True)\n",
    "    elif literal.sign == False:\n",
    "        return (-literal, False)"
   ]
  },
  {
   "cell_type": "code",
   "execution_count": 19,
   "metadata": {},
   "outputs": [
    {
     "data": {
      "text/plain": [
       "(C, True)"
      ]
     },
     "execution_count": 19,
     "metadata": {},
     "output_type": "execute_result"
    }
   ],
   "source": [
    "true_unit_clause(C)"
   ]
  },
  {
   "cell_type": "code",
   "execution_count": 20,
   "metadata": {},
   "outputs": [
    {
     "data": {
      "text/plain": [
       "(C, False)"
      ]
     },
     "execution_count": 20,
     "metadata": {},
     "output_type": "execute_result"
    }
   ],
   "source": [
    "true_unit_clause(-C)"
   ]
  },
  {
   "cell_type": "code",
   "execution_count": 21,
   "metadata": {},
   "outputs": [],
   "source": [
    "def unit_clause(clause, model):\n",
    "    \"\"\" Check if a clause could be a unit clause. \n",
    "    Return the key symbol with the correct truth \n",
    "    value so that the clause is true.   \n",
    "    \"\"\"\n",
    "    undefined = 0\n",
    "    for symbol in clause:\n",
    "        s, t = true_unit_clause(symbol)\n",
    "        if s in model:\n",
    "            #This symbol is assigned False by the model, continue to the next symbol\n",
    "            if model[s] != t:\n",
    "                continue\n",
    "            #This symbol is assigned True by the model\n",
    "            else:\n",
    "                return (None, None)\n",
    "        else:\n",
    "            undefined +=1\n",
    "        if undefined > 1:\n",
    "            return (None, None)\n",
    "        P, value = s, t \n",
    "    return (P, value)"
   ]
  },
  {
   "cell_type": "code",
   "execution_count": 22,
   "metadata": {},
   "outputs": [
    {
     "data": {
      "text/plain": [
       "(None, None)"
      ]
     },
     "execution_count": 22,
     "metadata": {},
     "output_type": "execute_result"
    }
   ],
   "source": [
    "unit_clause({A,C,D}, {A:True})"
   ]
  },
  {
   "cell_type": "code",
   "execution_count": 23,
   "metadata": {},
   "outputs": [
    {
     "data": {
      "text/plain": [
       "(B, False)"
      ]
     },
     "execution_count": 23,
     "metadata": {},
     "output_type": "execute_result"
    }
   ],
   "source": [
    "unit_clause({-A,-B}, {A:True})"
   ]
  },
  {
   "cell_type": "code",
   "execution_count": 24,
   "metadata": {},
   "outputs": [],
   "source": [
    "def one_unit_clause(clauses, model):\n",
    "    \"\"\" Given a list of clauses, return one of the \n",
    "    unit clauses. \n",
    "    \"\"\"\n",
    "    for c in clauses:\n",
    "        s, v = unit_clause (c, model)\n",
    "        if s:\n",
    "            return (s, v)\n",
    "    return (None, None)"
   ]
  },
  {
   "cell_type": "code",
   "execution_count": 25,
   "metadata": {},
   "outputs": [
    {
     "data": {
      "text/plain": [
       "(B, False)"
      ]
     },
     "execution_count": 25,
     "metadata": {},
     "output_type": "execute_result"
    }
   ],
   "source": [
    "one_unit_clause([{A,B,C},{B,-C},{-A,-B}],{A:True})"
   ]
  },
  {
   "cell_type": "code",
   "execution_count": 26,
   "metadata": {},
   "outputs": [],
   "source": [
    "def removed(s,symbols):\n",
    "    \"\"\" Return the list of remaining symbols after\n",
    "    processing a symbol. \n",
    "    \"\"\"\n",
    "    return [x for x in symbols if x!= s]"
   ]
  },
  {
   "cell_type": "code",
   "execution_count": 27,
   "metadata": {},
   "outputs": [
    {
     "data": {
      "text/plain": [
       "[A, B]"
      ]
     },
     "execution_count": 27,
     "metadata": {},
     "output_type": "execute_result"
    }
   ],
   "source": [
    "removed(C,[A,B,C])"
   ]
  },
  {
   "cell_type": "code",
   "execution_count": 28,
   "metadata": {},
   "outputs": [],
   "source": [
    "def added(model, s, value):\n",
    "    \"\"\" Add a symbol into our model \n",
    "    after we have known its truth value  \n",
    "    \"\"\"\n",
    "    mod = model.copy()\n",
    "    mod[s] = value\n",
    "    return(mod)"
   ]
  },
  {
   "cell_type": "code",
   "execution_count": 29,
   "metadata": {},
   "outputs": [
    {
     "data": {
      "text/plain": [
       "{A: False}"
      ]
     },
     "execution_count": 29,
     "metadata": {},
     "output_type": "execute_result"
    }
   ],
   "source": [
    "added({}, A, False)"
   ]
  },
  {
   "cell_type": "code",
   "execution_count": 30,
   "metadata": {},
   "outputs": [],
   "source": [
    "def DPLL(clauses, symbols, model ={}):\n",
    "    unknown = []\n",
    "    #Loop through all the clauses and how they are evaluated by\n",
    "    #the given model. \n",
    "    for c in clauses:\n",
    "        val = is_true(c, model)\n",
    "        if val is False:\n",
    "            #When one clause is False, KB is False because of conjunctions.\n",
    "            return False  \n",
    "        if val is not True:\n",
    "            #If the truth value of a clause is not decided from the KB, \n",
    "            #we append it to unknown. \n",
    "            unknown.append(c) \n",
    "    if not unknown:\n",
    "        #After knowing the truth value all the symbols, we return the model\n",
    "        return model\n",
    "    \n",
    "    #Pure Symbol Heuristics\n",
    "    #P, value = find_pure_symbol(symbols, unknown)\n",
    "    P, value = common_pure_symbol(symbols, unknown)\n",
    "    if P:\n",
    "        return DPLL(clauses, removed(P, symbols), \n",
    "                    added(model, P, value))\n",
    "\n",
    "    # Unit Clause Heuristics \n",
    "    P, value = one_unit_clause(clauses, model)\n",
    "    if P:\n",
    "        return DPLL(clauses, removed(P, symbols),\n",
    "                    added(model, P, value))\n",
    "    \n",
    "    # Degree Heuristics\n",
    "    P, symbols = most_common(symbols, clauses)\n",
    "    \n",
    "    return (DPLL(clauses,symbols,added(model, P, True)) or\n",
    "            DPLL(clauses,symbols,added(model, P, False)))"
   ]
  },
  {
   "cell_type": "code",
   "execution_count": 31,
   "metadata": {},
   "outputs": [],
   "source": [
    "from collections import OrderedDict\n",
    "\n",
    "def DPLL_satisfiable(KB):\n",
    "    symbols = []\n",
    "    for clause in KB:\n",
    "        for symbol in clause:\n",
    "            if symbol.sign == True:\n",
    "                symbols.append(symbol)\n",
    "            else:\n",
    "                symbols.append(-symbol)\n",
    "    symbols = list(set(symbols))        \n",
    "    symbols = sorted(symbols, key=lambda x: x.name)\n",
    "    model = DPLL(KB, symbols)\n",
    "    if model == False:\n",
    "        return (False, {})\n",
    "    else:\n",
    "        result = {}\n",
    "        for s in symbols: \n",
    "            if s in model:\n",
    "                result[s] = str(model[s]).lower()\n",
    "            else:\n",
    "                result[s] = \"free\"\n",
    "        result = OrderedDict(sorted(result.items(), \n",
    "                                key=lambda i: i[0].name))\n",
    "        return(True, result)"
   ]
  },
  {
   "cell_type": "code",
   "execution_count": 32,
   "metadata": {},
   "outputs": [],
   "source": [
    "KB = [{-A,B,E},{-B, A},{-E, A},{-E,D},{-C,-F,-B},{-E,B},{-B,F},{-B,C}]"
   ]
  },
  {
   "cell_type": "code",
   "execution_count": 33,
   "metadata": {
    "scrolled": true
   },
   "outputs": [
    {
     "data": {
      "text/plain": [
       "(True,\n",
       " OrderedDict([(A, 'false'),\n",
       "              (B, 'false'),\n",
       "              (C, 'free'),\n",
       "              (D, 'true'),\n",
       "              (E, 'false'),\n",
       "              (F, 'free')]))"
      ]
     },
     "execution_count": 33,
     "metadata": {},
     "output_type": "execute_result"
    }
   ],
   "source": [
    "DPLL_satisfiable(KB)"
   ]
  },
  {
   "cell_type": "code",
   "execution_count": null,
   "metadata": {},
   "outputs": [],
   "source": []
  },
  {
   "cell_type": "code",
   "execution_count": null,
   "metadata": {},
   "outputs": [],
   "source": []
  }
 ],
 "metadata": {
  "kernelspec": {
   "display_name": "Python 3",
   "language": "python",
   "name": "python3"
  },
  "language_info": {
   "codemirror_mode": {
    "name": "ipython",
    "version": 3
   },
   "file_extension": ".py",
   "mimetype": "text/x-python",
   "name": "python",
   "nbconvert_exporter": "python",
   "pygments_lexer": "ipython3",
   "version": "3.6.3"
  }
 },
 "nbformat": 4,
 "nbformat_minor": 2
}
